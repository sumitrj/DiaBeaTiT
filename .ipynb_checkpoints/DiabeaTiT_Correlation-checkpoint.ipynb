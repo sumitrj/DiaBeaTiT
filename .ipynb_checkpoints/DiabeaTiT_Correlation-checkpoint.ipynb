{
 "cells": [
  {
   "cell_type": "markdown",
   "metadata": {},
   "source": [
    "## Getting Dependencies"
   ]
  },
  {
   "cell_type": "code",
   "execution_count": 5,
   "metadata": {},
   "outputs": [
    {
     "name": "stdout",
     "output_type": "stream",
     "text": [
      "CPU times: user 19 µs, sys: 6 µs, total: 25 µs\n",
      "Wall time: 28.1 µs\n"
     ]
    }
   ],
   "source": [
    "%%time\n",
    "import matplotlib.pyplot as plt\n",
    "import numpy as np\n",
    "import pandas as pd\n",
    "import numpy as np\n",
    "from sklearn.model_selection import train_test_split\n",
    "from sklearn.tree import DecisionTreeRegressor\n",
    "from sklearn.metrics import accuracy_score\n",
    "from sklearn import tree"
   ]
  },
  {
   "cell_type": "markdown",
   "metadata": {},
   "source": [
    "# Calibration of the Glucometer"
   ]
  },
  {
   "cell_type": "markdown",
   "metadata": {},
   "source": [
    "## Mapping Microcontroller Values to Glucose Concentration"
   ]
  },
  {
   "cell_type": "code",
   "execution_count": null,
   "metadata": {},
   "outputs": [
    {
     "name": "stdout",
     "output_type": "stream",
     "text": [
      "Collecting xlrd\r\n"
     ]
    }
   ],
   "source": [
    "!pip3 install xlrd"
   ]
  },
  {
   "cell_type": "code",
   "execution_count": 6,
   "metadata": {},
   "outputs": [
    {
     "ename": "ImportError",
     "evalue": "Missing optional dependency 'xlrd'. Install xlrd >= 1.0.0 for Excel support Use pip or conda to install xlrd.",
     "output_type": "error",
     "traceback": [
      "\u001b[0;31m---------------------------------------------------------------------------\u001b[0m",
      "\u001b[0;31mImportError\u001b[0m                               Traceback (most recent call last)",
      "\u001b[0;32m<ipython-input-6-9865e6ad398e>\u001b[0m in \u001b[0;36m<module>\u001b[0;34m\u001b[0m\n\u001b[0;32m----> 1\u001b[0;31m \u001b[0mCalData\u001b[0m \u001b[0;34m=\u001b[0m \u001b[0mpd\u001b[0m\u001b[0;34m.\u001b[0m\u001b[0mread_excel\u001b[0m\u001b[0;34m(\u001b[0m\u001b[0;34m'DiabeaTiT_Calibration Data.xlsx'\u001b[0m\u001b[0;34m)\u001b[0m\u001b[0;34m\u001b[0m\u001b[0;34m\u001b[0m\u001b[0m\n\u001b[0m\u001b[1;32m      2\u001b[0m \u001b[0mCalData\u001b[0m\u001b[0;34m.\u001b[0m\u001b[0mhead\u001b[0m\u001b[0;34m(\u001b[0m\u001b[0;34m)\u001b[0m\u001b[0;34m\u001b[0m\u001b[0;34m\u001b[0m\u001b[0m\n",
      "\u001b[0;32m~/.local/lib/python3.8/site-packages/pandas/util/_decorators.py\u001b[0m in \u001b[0;36mwrapper\u001b[0;34m(*args, **kwargs)\u001b[0m\n\u001b[1;32m    294\u001b[0m                 )\n\u001b[1;32m    295\u001b[0m                 \u001b[0mwarnings\u001b[0m\u001b[0;34m.\u001b[0m\u001b[0mwarn\u001b[0m\u001b[0;34m(\u001b[0m\u001b[0mmsg\u001b[0m\u001b[0;34m,\u001b[0m \u001b[0mFutureWarning\u001b[0m\u001b[0;34m,\u001b[0m \u001b[0mstacklevel\u001b[0m\u001b[0;34m=\u001b[0m\u001b[0mstacklevel\u001b[0m\u001b[0;34m)\u001b[0m\u001b[0;34m\u001b[0m\u001b[0;34m\u001b[0m\u001b[0m\n\u001b[0;32m--> 296\u001b[0;31m             \u001b[0;32mreturn\u001b[0m \u001b[0mfunc\u001b[0m\u001b[0;34m(\u001b[0m\u001b[0;34m*\u001b[0m\u001b[0margs\u001b[0m\u001b[0;34m,\u001b[0m \u001b[0;34m**\u001b[0m\u001b[0mkwargs\u001b[0m\u001b[0;34m)\u001b[0m\u001b[0;34m\u001b[0m\u001b[0;34m\u001b[0m\u001b[0m\n\u001b[0m\u001b[1;32m    297\u001b[0m \u001b[0;34m\u001b[0m\u001b[0m\n\u001b[1;32m    298\u001b[0m         \u001b[0;32mreturn\u001b[0m \u001b[0mwrapper\u001b[0m\u001b[0;34m\u001b[0m\u001b[0;34m\u001b[0m\u001b[0m\n",
      "\u001b[0;32m~/.local/lib/python3.8/site-packages/pandas/io/excel/_base.py\u001b[0m in \u001b[0;36mread_excel\u001b[0;34m(io, sheet_name, header, names, index_col, usecols, squeeze, dtype, engine, converters, true_values, false_values, skiprows, nrows, na_values, keep_default_na, na_filter, verbose, parse_dates, date_parser, thousands, comment, skipfooter, convert_float, mangle_dupe_cols)\u001b[0m\n\u001b[1;32m    302\u001b[0m \u001b[0;34m\u001b[0m\u001b[0m\n\u001b[1;32m    303\u001b[0m     \u001b[0;32mif\u001b[0m \u001b[0;32mnot\u001b[0m \u001b[0misinstance\u001b[0m\u001b[0;34m(\u001b[0m\u001b[0mio\u001b[0m\u001b[0;34m,\u001b[0m \u001b[0mExcelFile\u001b[0m\u001b[0;34m)\u001b[0m\u001b[0;34m:\u001b[0m\u001b[0;34m\u001b[0m\u001b[0;34m\u001b[0m\u001b[0m\n\u001b[0;32m--> 304\u001b[0;31m         \u001b[0mio\u001b[0m \u001b[0;34m=\u001b[0m \u001b[0mExcelFile\u001b[0m\u001b[0;34m(\u001b[0m\u001b[0mio\u001b[0m\u001b[0;34m,\u001b[0m \u001b[0mengine\u001b[0m\u001b[0;34m=\u001b[0m\u001b[0mengine\u001b[0m\u001b[0;34m)\u001b[0m\u001b[0;34m\u001b[0m\u001b[0;34m\u001b[0m\u001b[0m\n\u001b[0m\u001b[1;32m    305\u001b[0m     \u001b[0;32melif\u001b[0m \u001b[0mengine\u001b[0m \u001b[0;32mand\u001b[0m \u001b[0mengine\u001b[0m \u001b[0;34m!=\u001b[0m \u001b[0mio\u001b[0m\u001b[0;34m.\u001b[0m\u001b[0mengine\u001b[0m\u001b[0;34m:\u001b[0m\u001b[0;34m\u001b[0m\u001b[0;34m\u001b[0m\u001b[0m\n\u001b[1;32m    306\u001b[0m         raise ValueError(\n",
      "\u001b[0;32m~/.local/lib/python3.8/site-packages/pandas/io/excel/_base.py\u001b[0m in \u001b[0;36m__init__\u001b[0;34m(self, path_or_buffer, engine)\u001b[0m\n\u001b[1;32m    865\u001b[0m         \u001b[0mself\u001b[0m\u001b[0;34m.\u001b[0m\u001b[0m_io\u001b[0m \u001b[0;34m=\u001b[0m \u001b[0mstringify_path\u001b[0m\u001b[0;34m(\u001b[0m\u001b[0mpath_or_buffer\u001b[0m\u001b[0;34m)\u001b[0m\u001b[0;34m\u001b[0m\u001b[0;34m\u001b[0m\u001b[0m\n\u001b[1;32m    866\u001b[0m \u001b[0;34m\u001b[0m\u001b[0m\n\u001b[0;32m--> 867\u001b[0;31m         \u001b[0mself\u001b[0m\u001b[0;34m.\u001b[0m\u001b[0m_reader\u001b[0m \u001b[0;34m=\u001b[0m \u001b[0mself\u001b[0m\u001b[0;34m.\u001b[0m\u001b[0m_engines\u001b[0m\u001b[0;34m[\u001b[0m\u001b[0mengine\u001b[0m\u001b[0;34m]\u001b[0m\u001b[0;34m(\u001b[0m\u001b[0mself\u001b[0m\u001b[0;34m.\u001b[0m\u001b[0m_io\u001b[0m\u001b[0;34m)\u001b[0m\u001b[0;34m\u001b[0m\u001b[0;34m\u001b[0m\u001b[0m\n\u001b[0m\u001b[1;32m    868\u001b[0m \u001b[0;34m\u001b[0m\u001b[0m\n\u001b[1;32m    869\u001b[0m     \u001b[0;32mdef\u001b[0m \u001b[0m__fspath__\u001b[0m\u001b[0;34m(\u001b[0m\u001b[0mself\u001b[0m\u001b[0;34m)\u001b[0m\u001b[0;34m:\u001b[0m\u001b[0;34m\u001b[0m\u001b[0;34m\u001b[0m\u001b[0m\n",
      "\u001b[0;32m~/.local/lib/python3.8/site-packages/pandas/io/excel/_xlrd.py\u001b[0m in \u001b[0;36m__init__\u001b[0;34m(self, filepath_or_buffer)\u001b[0m\n\u001b[1;32m     19\u001b[0m         \"\"\"\n\u001b[1;32m     20\u001b[0m         \u001b[0merr_msg\u001b[0m \u001b[0;34m=\u001b[0m \u001b[0;34m\"Install xlrd >= 1.0.0 for Excel support\"\u001b[0m\u001b[0;34m\u001b[0m\u001b[0;34m\u001b[0m\u001b[0m\n\u001b[0;32m---> 21\u001b[0;31m         \u001b[0mimport_optional_dependency\u001b[0m\u001b[0;34m(\u001b[0m\u001b[0;34m\"xlrd\"\u001b[0m\u001b[0;34m,\u001b[0m \u001b[0mextra\u001b[0m\u001b[0;34m=\u001b[0m\u001b[0merr_msg\u001b[0m\u001b[0;34m)\u001b[0m\u001b[0;34m\u001b[0m\u001b[0;34m\u001b[0m\u001b[0m\n\u001b[0m\u001b[1;32m     22\u001b[0m         \u001b[0msuper\u001b[0m\u001b[0;34m(\u001b[0m\u001b[0;34m)\u001b[0m\u001b[0;34m.\u001b[0m\u001b[0m__init__\u001b[0m\u001b[0;34m(\u001b[0m\u001b[0mfilepath_or_buffer\u001b[0m\u001b[0;34m)\u001b[0m\u001b[0;34m\u001b[0m\u001b[0;34m\u001b[0m\u001b[0m\n\u001b[1;32m     23\u001b[0m \u001b[0;34m\u001b[0m\u001b[0m\n",
      "\u001b[0;32m~/.local/lib/python3.8/site-packages/pandas/compat/_optional.py\u001b[0m in \u001b[0;36mimport_optional_dependency\u001b[0;34m(name, extra, raise_on_missing, on_version)\u001b[0m\n\u001b[1;32m     91\u001b[0m     \u001b[0;32mexcept\u001b[0m \u001b[0mImportError\u001b[0m\u001b[0;34m:\u001b[0m\u001b[0;34m\u001b[0m\u001b[0;34m\u001b[0m\u001b[0m\n\u001b[1;32m     92\u001b[0m         \u001b[0;32mif\u001b[0m \u001b[0mraise_on_missing\u001b[0m\u001b[0;34m:\u001b[0m\u001b[0;34m\u001b[0m\u001b[0;34m\u001b[0m\u001b[0m\n\u001b[0;32m---> 93\u001b[0;31m             \u001b[0;32mraise\u001b[0m \u001b[0mImportError\u001b[0m\u001b[0;34m(\u001b[0m\u001b[0mmsg\u001b[0m\u001b[0;34m)\u001b[0m \u001b[0;32mfrom\u001b[0m \u001b[0;32mNone\u001b[0m\u001b[0;34m\u001b[0m\u001b[0;34m\u001b[0m\u001b[0m\n\u001b[0m\u001b[1;32m     94\u001b[0m         \u001b[0;32melse\u001b[0m\u001b[0;34m:\u001b[0m\u001b[0;34m\u001b[0m\u001b[0;34m\u001b[0m\u001b[0m\n\u001b[1;32m     95\u001b[0m             \u001b[0;32mreturn\u001b[0m \u001b[0;32mNone\u001b[0m\u001b[0;34m\u001b[0m\u001b[0;34m\u001b[0m\u001b[0m\n",
      "\u001b[0;31mImportError\u001b[0m: Missing optional dependency 'xlrd'. Install xlrd >= 1.0.0 for Excel support Use pip or conda to install xlrd."
     ]
    }
   ],
   "source": [
    "CalData = pd.read_excel('DiabeaTiT_Calibration Data.xlsx')\n",
    "CalData.head()"
   ]
  },
  {
   "cell_type": "code",
   "execution_count": 4,
   "metadata": {},
   "outputs": [
    {
     "data": {
      "text/plain": [
       "Text(0.5,1,'Calibration Data')"
      ]
     },
     "execution_count": 4,
     "metadata": {},
     "output_type": "execute_result"
    },
    {
     "data": {
      "image/png": "[encoded data removed]",
      "text/plain": [
       "<Figure size 432x288 with 1 Axes>"
      ]
     },
     "metadata": {
      "needs_background": "light"
     },
     "output_type": "display_data"
    }
   ],
   "source": [
    "plt.scatter(np.array(CalData['Output values from Microcontroller']),np.array(CalData['Test Solution Concentration']))\n",
    "plt.xlabel('Output values from Microcontroller')\n",
    "plt.ylabel('Test Solution Concentration')\n",
    "plt.title('Calibration Data')"
   ]
  },
  {
   "cell_type": "markdown",
   "metadata": {},
   "source": [
    "## Reshape Data"
   ]
  },
  {
   "cell_type": "code",
   "execution_count": 5,
   "metadata": {},
   "outputs": [],
   "source": [
    "X_Micro = np.array(CalData['Output values from Microcontroller']).reshape(-1,1)\n",
    "X_Sal = np.array(CalData['Test Solution Concentration']).reshape(-1,1)"
   ]
  },
  {
   "cell_type": "markdown",
   "metadata": {},
   "source": [
    "## Accuracy Function and Split"
   ]
  },
  {
   "cell_type": "code",
   "execution_count": 6,
   "metadata": {},
   "outputs": [],
   "source": [
    "X_train, X_test, y_train, y_test = train_test_split(X_Micro, X_Sal, random_state = 0) \n",
    "Error_Percent = {}\n",
    "trained_models = {}\n",
    "def score(x,y):\n",
    "    x = np.array(x)\n",
    "    y = np.array(y)    \n",
    "    return 100 - np.mean((x-y)**2)**0.5*100/np.mean(x)"
   ]
  },
  {
   "cell_type": "markdown",
   "metadata": {},
   "source": [
    "## Correlation between Microcontroller Values and Glucose Concentration"
   ]
  },
  {
   "cell_type": "markdown",
   "metadata": {},
   "source": [
    "### Information Entropy based algorithms "
   ]
  },
  {
   "cell_type": "code",
   "execution_count": 7,
   "metadata": {},
   "outputs": [
    {
     "name": "stdout",
     "output_type": "stream",
     "text": [
      "30.457604359076072\n"
     ]
    },
    {
     "data": {
      "image/png": "[encoded data removed]",
      "text/plain": [
       "<Figure size 432x288 with 1 Axes>"
      ]
     },
     "metadata": {
      "needs_background": "light"
     },
     "output_type": "display_data"
    }
   ],
   "source": [
    "regr = DecisionTreeRegressor(max_depth=10)\n",
    "regr.fit(X_train, y_train)\n",
    "y_pred = regr.predict(X_test)\n",
    "Error_Percent['Information Entropy based ML algorithms'] = score(y_test,y_pred)\n",
    "print(score(y_test,y_pred))\n",
    "y_predf = regr.predict(X_Micro)\n",
    "plt.scatter(X_Micro,X_Sal)\n",
    "plt.scatter(X_Micro,y_predf)\n",
    "trained_models['Information Entropy based ML algorithms'] = regr"
   ]
  },
  {
   "cell_type": "markdown",
   "metadata": {},
   "source": [
    "### Polynomial regression using gradient dissent"
   ]
  },
  {
   "cell_type": "code",
   "execution_count": 8,
   "metadata": {},
   "outputs": [
    {
     "name": "stdout",
     "output_type": "stream",
     "text": [
      " Accuracy Percentage:  91.32258278298595 \n",
      " Degree of Polynomial:  3\n"
     ]
    },
    {
     "data": {
      "image/png": "[encoded data removed]",
      "text/plain": [
       "<Figure size 432x288 with 1 Axes>"
      ]
     },
     "metadata": {
      "needs_background": "light"
     },
     "output_type": "display_data"
    }
   ],
   "source": [
    "from sklearn.preprocessing import PolynomialFeatures\n",
    "\n",
    "models = []\n",
    "# Test upto 10 degree polynomial\n",
    "\n",
    "for j in range(10):\n",
    "    poly = PolynomialFeatures(degree=j)\n",
    "    poly_x = poly.fit_transform(X_train)\n",
    "    models.append(poly_x)\n",
    "\n",
    "from sklearn.linear_model import LinearRegression\n",
    "\n",
    "regressors = []\n",
    "y_preds = []\n",
    "mses = []\n",
    "\n",
    "for model in models:\n",
    "    regressor = LinearRegression()\n",
    "    regressor.fit(model,y_train)\n",
    "    regressors.append(regressor)\n",
    "\n",
    "j=0\n",
    "min_mse = -1\n",
    "minj = -1\n",
    "\n",
    "for regressor in regressors:\n",
    "    poly = PolynomialFeatures(degree=j)\n",
    "    poly_x = poly.fit_transform(X_test)    \n",
    "    y_pred  = regressor.predict(poly_x)\n",
    "    mse = 100 - score(y_test,y_pred)\n",
    "    \n",
    "    if(j==0):\n",
    "        min_mse = mse\n",
    "        minj = 0\n",
    "    elif(min_mse>mse):\n",
    "        min_mse = mse\n",
    "        minj = j\n",
    "    j+=1\n",
    "\n",
    "\n",
    "print(' Accuracy Percentage: ',100- min_mse, '\\n' , 'Degree of Polynomial: ',minj)\n",
    "Error_Percent['Polynomial_Regression'] = min_mse\n",
    "poly = PolynomialFeatures(degree=minj)\n",
    "poly_x = poly.fit_transform(X_Micro)    \n",
    "y_pred  = regressors[minj].predict(poly_x)\n",
    "plt.scatter(X_Micro,y_pred)\n",
    "plt.scatter(X_Micro,X_Sal)\n",
    "#plt.title('Microcontroller Values against Glucose Concentration')\n",
    "plt.xlabel('Mirocontroller Values')\n",
    "plt.ylabel('Glucose Concentration (mg/dl) ')\n",
    "trained_models['Polynomial_Regression'] = regressors[minj]\n",
    "ArdtoGlc = regressors[minj]"
   ]
  },
  {
   "cell_type": "markdown",
   "metadata": {},
   "source": [
    "# Mapping Glucose Concentration in Saliva to that of Blood"
   ]
  },
  {
   "cell_type": "markdown",
   "metadata": {},
   "source": [
    "## Read Data"
   ]
  },
  {
   "cell_type": "code",
   "execution_count": 9,
   "metadata": {},
   "outputs": [
    {
     "data": {
      "text/html": [
       "<div>\n",
       "<style scoped>\n",
       "    .dataframe tbody tr th:only-of-type {\n",
       "        vertical-align: middle;\n",
       "    }\n",
       "\n",
       "    .dataframe tbody tr th {\n",
       "        vertical-align: top;\n",
       "    }\n",
       "\n",
       "    .dataframe thead th {\n",
       "        text-align: right;\n",
       "    }\n",
       "</style>\n",
       "<table border=\"1\" class=\"dataframe\">\n",
       "  <thead>\n",
       "    <tr style=\"text-align: right;\">\n",
       "      <th></th>\n",
       "      <th>Salivary Glucose Concentration</th>\n",
       "      <th>Blood Glucose Concentration</th>\n",
       "    </tr>\n",
       "  </thead>\n",
       "  <tbody>\n",
       "    <tr>\n",
       "      <th>0</th>\n",
       "      <td>1.296094</td>\n",
       "      <td>110.260027</td>\n",
       "    </tr>\n",
       "    <tr>\n",
       "      <th>1</th>\n",
       "      <td>1.301530</td>\n",
       "      <td>65.923150</td>\n",
       "    </tr>\n",
       "    <tr>\n",
       "      <th>2</th>\n",
       "      <td>1.411458</td>\n",
       "      <td>96.978819</td>\n",
       "    </tr>\n",
       "    <tr>\n",
       "      <th>3</th>\n",
       "      <td>1.436916</td>\n",
       "      <td>94.776040</td>\n",
       "    </tr>\n",
       "    <tr>\n",
       "      <th>4</th>\n",
       "      <td>1.357038</td>\n",
       "      <td>99.435002</td>\n",
       "    </tr>\n",
       "  </tbody>\n",
       "</table>\n",
       "</div>"
      ],
      "text/plain": [
       "   Salivary Glucose Concentration  Blood Glucose Concentration\n",
       "0                        1.296094                   110.260027\n",
       "1                        1.301530                    65.923150\n",
       "2                        1.411458                    96.978819\n",
       "3                        1.436916                    94.776040\n",
       "4                        1.357038                    99.435002"
      ]
     },
     "execution_count": 9,
     "metadata": {},
     "output_type": "execute_result"
    }
   ],
   "source": [
    "Sal_to_Blood_Data = pd.read_excel('DiabeaTiT_SaltoBlood.xlsx')\n",
    "Sal_to_Blood_Data.head()"
   ]
  },
  {
   "cell_type": "markdown",
   "metadata": {},
   "source": [
    "## Reshape and split Data"
   ]
  },
  {
   "cell_type": "code",
   "execution_count": 10,
   "metadata": {},
   "outputs": [],
   "source": [
    "X_Sal1 = np.array(Sal_to_Blood_Data['Salivary Glucose Concentration']).reshape(-1,1)\n",
    "Y_Blood_Glucose = np.array(Sal_to_Blood_Data['Blood Glucose Concentration']).reshape(-1,1)\n",
    "X_train, X_test, y_train, y_test = train_test_split(X_Sal1, Y_Blood_Glucose, random_state = 0) \n",
    "Error_Percent = {}\n",
    "trained_models = {}"
   ]
  },
  {
   "cell_type": "markdown",
   "metadata": {},
   "source": [
    "## Training Models"
   ]
  },
  {
   "cell_type": "markdown",
   "metadata": {},
   "source": [
    "### Information Entropy based algorithms "
   ]
  },
  {
   "cell_type": "code",
   "execution_count": 11,
   "metadata": {},
   "outputs": [
    {
     "name": "stdout",
     "output_type": "stream",
     "text": [
      "Accuracy:  59.6090135577743\n"
     ]
    },
    {
     "data": {
      "image/png": "[encoded data removed]",
      "text/plain": [
       "<Figure size 432x288 with 1 Axes>"
      ]
     },
     "metadata": {
      "needs_background": "light"
     },
     "output_type": "display_data"
    }
   ],
   "source": [
    "regr = DecisionTreeRegressor(max_depth=10)\n",
    "regr.fit(X_train, y_train)\n",
    "y_pred = regr.predict(X_test)\n",
    "Error_Percent['Information Entropy based ML algorithms'] = score(y_test,y_pred)\n",
    "print(\"Accuracy: \",score(y_test,y_pred))\n",
    "y_predf = regr.predict(X_Sal1)\n",
    "plt.scatter(X_Sal1,Y_Blood_Glucose)\n",
    "plt.scatter(X_Sal1,y_predf)\n",
    "trained_models['Information Entropy based ML algorithms'] = regr"
   ]
  },
  {
   "cell_type": "markdown",
   "metadata": {},
   "source": [
    "### Polynomial regression using gradient dissent"
   ]
  },
  {
   "cell_type": "code",
   "execution_count": 12,
   "metadata": {},
   "outputs": [
    {
     "name": "stdout",
     "output_type": "stream",
     "text": [
      " Accuracy:  90.05522810058582 \n",
      " Degree of Polynomial:  2\n"
     ]
    },
    {
     "data": {
      "image/png": "[encoded data removed]",
      "text/plain": [
       "<Figure size 432x288 with 1 Axes>"
      ]
     },
     "metadata": {
      "needs_background": "light"
     },
     "output_type": "display_data"
    }
   ],
   "source": [
    "from sklearn.preprocessing import PolynomialFeatures\n",
    "\n",
    "models = []\n",
    "# Test upto 10 degree polynomial\n",
    "\n",
    "for j in range(10):\n",
    "    poly = PolynomialFeatures(degree=j)\n",
    "    poly_x = poly.fit_transform(X_train)\n",
    "    models.append(poly_x)\n",
    "\n",
    "from sklearn.linear_model import LinearRegression\n",
    "\n",
    "regressors = []\n",
    "y_preds = []\n",
    "mses = []\n",
    "\n",
    "for model in models:\n",
    "    regressor = LinearRegression()\n",
    "    regressor.fit(model,y_train)\n",
    "    regressors.append(regressor)\n",
    "\n",
    "j=0\n",
    "min_mse = -1\n",
    "minj = -1\n",
    "\n",
    "for regressor in regressors:\n",
    "    poly = PolynomialFeatures(degree=j)\n",
    "    poly_x = poly.fit_transform(X_test)    \n",
    "    y_pred  = regressor.predict(poly_x)\n",
    "    mse = 100 - score(y_test,y_pred)\n",
    "    \n",
    "    if(j==0):\n",
    "        min_mse = mse\n",
    "        minj = 0\n",
    "    elif(min_mse>mse):\n",
    "        min_mse = mse\n",
    "        minj = j\n",
    "    j+=1\n",
    "\n",
    "\n",
    "print(' Accuracy: ', 100-min_mse, '\\n' , 'Degree of Polynomial: ',minj)\n",
    "Error_Percent['Polynomial_Regression'] = min_mse\n",
    "poly = PolynomialFeatures(degree=minj)\n",
    "poly_x = poly.fit_transform(X_Sal1)    \n",
    "y_pred  = regressors[minj].predict(poly_x)\n",
    "plt.scatter(X_Sal1,y_pred)\n",
    "plt.scatter(X_Sal1,Y_Blood_Glucose)\n",
    "plt.xlabel('Glucose Concentration in Saliva')\n",
    "plt.ylabel('Glucose Concentration in Blood')\n",
    "trained_models['Polynomial_Regression'] = regressors[minj]\n",
    "SaltoBloodGlc = regressors[minj]\n",
    "l = SaltoBloodGlc.coef_"
   ]
  },
  {
   "cell_type": "markdown",
   "metadata": {},
   "source": [
    "# Final Calibration: Microcontroller Values to Blood Glucose Concentration"
   ]
  },
  {
   "cell_type": "markdown",
   "metadata": {},
   "source": [
    "## Function to return Blood Glucose Level based on Microcontroller Values"
   ]
  },
  {
   "cell_type": "code",
   "execution_count": 13,
   "metadata": {},
   "outputs": [],
   "source": [
    "def MctoBlood(x):\n",
    "    x = np.array([x]).reshape(-1,1)\n",
    "    y = ArdtoGlc.predict(PolynomialFeatures(degree=3).fit_transform(x))\n",
    "    y = np.array([y]).reshape(-1,1)\n",
    "    z = SaltoBloodGlc.predict(PolynomialFeatures(degree=2).fit_transform(y))\n",
    "    return int(z)"
   ]
  },
  {
   "cell_type": "code",
   "execution_count": 14,
   "metadata": {},
   "outputs": [],
   "source": [
    "MicroController_to_Blood_Glucose = np.array([MctoBlood(i) for i in range(1024)])[350:]\n",
    "f = np.arange(350,1024)"
   ]
  },
  {
   "cell_type": "code",
   "execution_count": 15,
   "metadata": {},
   "outputs": [
    {
     "data": {
      "text/plain": [
       "Text(0,0.5,'Glucose Concentration in Blood')"
      ]
     },
     "execution_count": 15,
     "metadata": {},
     "output_type": "execute_result"
    },
    {
     "data": {
      "image/png": "[encoded data removed]",
      "text/plain": [
       "<Figure size 432x288 with 1 Axes>"
      ]
     },
     "metadata": {
      "needs_background": "light"
     },
     "output_type": "display_data"
    }
   ],
   "source": [
    "plt.plot(f,MicroController_to_Blood_Glucose)\n",
    "plt.title('Microcontroller Values Correlated to Glucose Concentration in Blood')\n",
    "plt.xlabel('Microcontroller Values')\n",
    "plt.ylabel('Glucose Concentration in Blood')"
   ]
  },
  {
   "cell_type": "markdown",
   "metadata": {},
   "source": [
    "## Store the Obtained Array into an Excel File"
   ]
  },
  {
   "cell_type": "code",
   "execution_count": 16,
   "metadata": {},
   "outputs": [],
   "source": [
    "df3 = pd.DataFrame()\n",
    "df3['MicroController Values'] = f\n",
    "df3['Blood Glucose Concentration Values'] = MicroController_to_Blood_Glucose\n",
    "df3.to_excel('DiabeaTiT_MicroController_to_Blood_Glucose.xlsx')"
   ]
  },
  {
   "cell_type": "markdown",
   "metadata": {},
   "source": [
    "# Final Coefficients"
   ]
  },
  {
   "cell_type": "code",
   "execution_count": 17,
   "metadata": {},
   "outputs": [
    {
     "data": {
      "text/plain": [
       "array([[ 0.00000000e+00,  1.03820866e-03,  2.85167552e-06,\n",
       "        -1.52347882e-09]])"
      ]
     },
     "execution_count": 17,
     "metadata": {},
     "output_type": "execute_result"
    }
   ],
   "source": [
    "ArdtoGlc.coef_"
   ]
  },
  {
   "cell_type": "code",
   "execution_count": 18,
   "metadata": {},
   "outputs": [
    {
     "data": {
      "text/plain": [
       "array([[ 0.00000000e+00,  1.03820866e-03,  2.85167552e-06,\n",
       "        -1.52347882e-09]])"
      ]
     },
     "execution_count": 18,
     "metadata": {},
     "output_type": "execute_result"
    }
   ],
   "source": [
    "ArdtoGlc.coef_"
   ]
  },
  {
   "cell_type": "code",
   "execution_count": 19,
   "metadata": {},
   "outputs": [
    {
     "data": {
      "text/plain": [
       "array([[ 0.        , 61.58593563, 14.3749855 ]])"
      ]
     },
     "execution_count": 19,
     "metadata": {},
     "output_type": "execute_result"
    }
   ],
   "source": [
    "SaltoBloodGlc.coef_"
   ]
  },
  {
   "cell_type": "markdown",
   "metadata": {},
   "source": [
    "# Binary Analysis | Classification of Patients as Diabateic and Non-Diabetic"
   ]
  },
  {
   "cell_type": "markdown",
   "metadata": {},
   "source": [
    "### Threshold For Determining Diabetes"
   ]
  },
  {
   "cell_type": "code",
   "execution_count": 20,
   "metadata": {},
   "outputs": [],
   "source": [
    "# Threshold BGL for Diabetes\n",
    "D_th = 200"
   ]
  },
  {
   "cell_type": "code",
   "execution_count": 21,
   "metadata": {},
   "outputs": [],
   "source": [
    "def predict(x):\n",
    "    return SaltoBloodGlc.predict(poly.fit_transform(np.array([x]).reshape(-1,1)))[0][0]"
   ]
  },
  {
   "cell_type": "code",
   "execution_count": 22,
   "metadata": {},
   "outputs": [],
   "source": [
    "predicted_levels = [predict(i) for i in np.array(Sal_to_Blood_Data['Salivary Glucose Concentration'])]\n",
    "true_levels = np.array(Sal_to_Blood_Data['Blood Glucose Concentration']).reshape(-1,1)"
   ]
  },
  {
   "cell_type": "code",
   "execution_count": 23,
   "metadata": {},
   "outputs": [
    {
     "data": {
      "text/plain": [
       "Text(0,0.5,'Blood Glucose Level')"
      ]
     },
     "execution_count": 23,
     "metadata": {},
     "output_type": "execute_result"
    },
    {
     "data": {
      "image/png": "[encoded data removed]",
      "text/plain": [
       "<Figure size 432x288 with 1 Axes>"
      ]
     },
     "metadata": {
      "needs_background": "light"
     },
     "output_type": "display_data"
    }
   ],
   "source": [
    "plt.scatter(np.arange(len(true_levels)),predicted_levels)\n",
    "plt.scatter(np.arange(len(true_levels)),true_levels)\n",
    "plt.plot(np.arange(len(true_levels)),[D_th for i in range(len(true_levels))])\n",
    "plt.title('Visualizing True Values, Predicted Values and Threshold Line')\n",
    "plt.xlabel('Patient Subject ID')\n",
    "plt.ylabel('Blood Glucose Level')"
   ]
  },
  {
   "cell_type": "markdown",
   "metadata": {},
   "source": [
    "## Classification on the basis of Threshold"
   ]
  },
  {
   "cell_type": "code",
   "execution_count": 24,
   "metadata": {},
   "outputs": [],
   "source": [
    "tp = []\n",
    "tn = []\n",
    "fp = []\n",
    "fn = []\n",
    "for i in range(len(true_levels)):\n",
    "    if(true_levels[i]>D_th and predicted_levels[i]>D_th):\n",
    "        tp.append(i)\n",
    "    if(true_levels[i]>D_th and predicted_levels[i]<D_th):\n",
    "        fn.append(i)\n",
    "    if(true_levels[i]<D_th and predicted_levels[i]>D_th):\n",
    "        fp.append(i)\n",
    "    if(true_levels[i]<D_th and predicted_levels[i]<D_th):\n",
    "        tn.append(i)\n",
    "        \n",
    "tpv = [predict(np.array(Sal_to_Blood_Data['Salivary Glucose Concentration'])[i]) for i in tp]\n",
    "tnv = [predict(np.array(Sal_to_Blood_Data['Salivary Glucose Concentration'])[i]) for i in tn]\n",
    "fpv = [predict(np.array(Sal_to_Blood_Data['Salivary Glucose Concentration'])[i]) for i in fp]\n",
    "fnv = [predict(np.array(Sal_to_Blood_Data['Salivary Glucose Concentration'])[i]) for i in fn]"
   ]
  },
  {
   "cell_type": "markdown",
   "metadata": {},
   "source": [
    "## Classified Plot"
   ]
  },
  {
   "cell_type": "code",
   "execution_count": 25,
   "metadata": {},
   "outputs": [
    {
     "data": {
      "text/plain": [
       "'Green: People without diabates and diagnosed by device as non-diabetic'"
      ]
     },
     "metadata": {},
     "output_type": "display_data"
    },
    {
     "data": {
      "text/plain": [
       "'Blue: People with diabates and diagnosed by device as diabetic'"
      ]
     },
     "metadata": {},
     "output_type": "display_data"
    },
    {
     "data": {
      "text/plain": [
       "'Red: People with diabates and diagnosed by device as non-diabetic'"
      ]
     },
     "metadata": {},
     "output_type": "display_data"
    },
    {
     "data": {
      "text/plain": [
       "'Black: People without diabates and diagnosed by device as diabetic'"
      ]
     },
     "metadata": {},
     "output_type": "display_data"
    },
    {
     "data": {
      "image/png": "[encoded data removed]",
      "text/plain": [
       "<Figure size 432x288 with 1 Axes>"
      ]
     },
     "metadata": {
      "needs_background": "light"
     },
     "output_type": "display_data"
    }
   ],
   "source": [
    "plt.scatter(tp,tpv, c='b')\n",
    "plt.scatter(tn,tnv, c='g')\n",
    "plt.scatter(fp,fpv, c='k')\n",
    "plt.scatter(fn,fnv, c='r')\n",
    "\n",
    "plt.title('Classified Plot')\n",
    "plt.xlabel('Patient Subject Serial Number')\n",
    "plt.ylabel('Blood Sugar Level')\n",
    "\n",
    "display(\"Green: People without diabates and diagnosed by device as non-diabetic\")\n",
    "display(\"Blue: People with diabates and diagnosed by device as diabetic\")\n",
    "display(\"Red: People with diabates and diagnosed by device as non-diabetic\")\n",
    "display(\"Black: People without diabates and diagnosed by device as diabetic\")"
   ]
  },
  {
   "cell_type": "markdown",
   "metadata": {},
   "source": [
    "## Confusion Matrix Plot"
   ]
  },
  {
   "cell_type": "code",
   "execution_count": 26,
   "metadata": {},
   "outputs": [
    {
     "name": "stdout",
     "output_type": "stream",
     "text": [
      "Confusion Matrix: \n",
      "[36, 2]\n",
      "[2, 12]\n",
      "\n",
      "Precision = 0.8571428571428571\n",
      "Recall =  3.0\n"
     ]
    },
    {
     "data": {
      "text/plain": [
       "<matplotlib.axes._subplots.AxesSubplot at 0x25856bea438>"
      ]
     },
     "execution_count": 26,
     "metadata": {},
     "output_type": "execute_result"
    },
    {
     "data": {
      "image/png": "[encoded data removed]",
      "text/plain": [
       "<Figure size 648x576 with 2 Axes>"
      ]
     },
     "metadata": {
      "needs_background": "light"
     },
     "output_type": "display_data"
    }
   ],
   "source": [
    "yp = []\n",
    "yt = []\n",
    "for i in predicted_levels:\n",
    "    if(i>D_th):\n",
    "        yp.append(1)\n",
    "    else:\n",
    "        yp.append(0) \n",
    "for i in true_levels:\n",
    "    if(i>D_th):\n",
    "        yt.append(1)\n",
    "    else:\n",
    "        yt.append(0)\n",
    "\n",
    "cm = ConfusionMatrix(yt, yp)\n",
    "ConMat = [[len(tn),len(fn)],[len(fp),len(tp)]]\n",
    "print(\"Confusion Matrix: \")\n",
    "print(ConMat[0])\n",
    "print(ConMat[1])\n",
    "print('')\n",
    "print('Precision =', len(tp)/(len(tp)+len(fp)))\n",
    "print('Recall = ',len(tp)/len(tp)+len(fn))\n",
    "cm.plot() \n",
    "\n"
   ]
  }
 ],
 "metadata": {
  "kernelspec": {
   "display_name": "Python 3",
   "language": "python",
   "name": "python3"
  },
  "language_info": {
   "codemirror_mode": {
    "name": "ipython",
    "version": 3
   },
   "file_extension": ".py",
   "mimetype": "text/x-python",
   "name": "python",
   "nbconvert_exporter": "python",
   "pygments_lexer": "ipython3",
   "version": "3.8.2"
  }
 },
 "nbformat": 4,
 "nbformat_minor": 2
}
