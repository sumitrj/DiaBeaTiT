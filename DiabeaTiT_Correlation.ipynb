{
 "cells": [
  {
   "cell_type": "code",
   "execution_count": 300,
   "metadata": {},
   "outputs": [
    {
     "name": "stdout",
     "output_type": "stream",
     "text": [
      "Wall time: 0 ns\n"
     ]
    }
   ],
   "source": [
    "%%time\n",
    "import matplotlib.pyplot as plt\n",
    "import numpy as np\n",
    "import pandas as pd\n",
    "import numpy as np\n",
    "from sklearn.cross_validation import train_test_split\n",
    "from sklearn.tree import DecisionTreeRegressor\n",
    "from sklearn.metrics import accuracy_score\n",
    "from sklearn import tree"
   ]
  },
  {
   "cell_type": "markdown",
   "metadata": {},
   "source": [
    "# Calibration of the Glucometer"
   ]
  },
  {
   "cell_type": "markdown",
   "metadata": {},
   "source": [
    "# Mapping Microcontroller Values to Glucose Concentration"
   ]
  },
  {
   "cell_type": "code",
   "execution_count": 301,
   "metadata": {},
   "outputs": [
    {
     "data": {
      "text/html": [
       "<div>\n",
       "<style scoped>\n",
       "    .dataframe tbody tr th:only-of-type {\n",
       "        vertical-align: middle;\n",
       "    }\n",
       "\n",
       "    .dataframe tbody tr th {\n",
       "        vertical-align: top;\n",
       "    }\n",
       "\n",
       "    .dataframe thead th {\n",
       "        text-align: right;\n",
       "    }\n",
       "</style>\n",
       "<table border=\"1\" class=\"dataframe\">\n",
       "  <thead>\n",
       "    <tr style=\"text-align: right;\">\n",
       "      <th></th>\n",
       "      <th>Test Solution Concentration</th>\n",
       "      <th>Output values from Microcontroller</th>\n",
       "    </tr>\n",
       "  </thead>\n",
       "  <tbody>\n",
       "    <tr>\n",
       "      <th>0</th>\n",
       "      <td>0.300000</td>\n",
       "      <td>110.465128</td>\n",
       "    </tr>\n",
       "    <tr>\n",
       "      <th>1</th>\n",
       "      <td>0.313568</td>\n",
       "      <td>193.581632</td>\n",
       "    </tr>\n",
       "    <tr>\n",
       "      <th>2</th>\n",
       "      <td>0.327136</td>\n",
       "      <td>147.273854</td>\n",
       "    </tr>\n",
       "    <tr>\n",
       "      <th>3</th>\n",
       "      <td>0.340704</td>\n",
       "      <td>35.719369</td>\n",
       "    </tr>\n",
       "    <tr>\n",
       "      <th>4</th>\n",
       "      <td>0.354271</td>\n",
       "      <td>73.565196</td>\n",
       "    </tr>\n",
       "  </tbody>\n",
       "</table>\n",
       "</div>"
      ],
      "text/plain": [
       "   Test Solution Concentration  Output values from Microcontroller\n",
       "0                     0.300000                          110.465128\n",
       "1                     0.313568                          193.581632\n",
       "2                     0.327136                          147.273854\n",
       "3                     0.340704                           35.719369\n",
       "4                     0.354271                           73.565196"
      ]
     },
     "execution_count": 301,
     "metadata": {},
     "output_type": "execute_result"
    }
   ],
   "source": [
    "CalData = pd.read_excel('DiabeaTiT_Calibration Data.xlsx')\n",
    "CalData.head()"
   ]
  },
  {
   "cell_type": "code",
   "execution_count": 302,
   "metadata": {},
   "outputs": [
    {
     "data": {
      "text/plain": [
       "Text(0.5,1,'Calibration Data')"
      ]
     },
     "execution_count": 302,
     "metadata": {},
     "output_type": "execute_result"
    },
    {
     "data": {
      "image/png": "[encoded data removed]",
      "text/plain": [
       "<Figure size 432x288 with 1 Axes>"
      ]
     },
     "metadata": {
      "needs_background": "light"
     },
     "output_type": "display_data"
    }
   ],
   "source": [
    "plt.scatter(np.array(CalData['Output values from Microcontroller']),np.array(CalData['Test Solution Concentration']))\n",
    "plt.xlabel('Output values from Microcontroller')\n",
    "plt.ylabel('Test Solution Concentration')\n",
    "plt.title('Calibration Data')"
   ]
  },
  {
   "cell_type": "code",
   "execution_count": 303,
   "metadata": {},
   "outputs": [],
   "source": [
    "X_Micro = np.array(CalData['Output values from Microcontroller']).reshape(-1,1)"
   ]
  },
  {
   "cell_type": "code",
   "execution_count": 304,
   "metadata": {},
   "outputs": [],
   "source": [
    "X_Sal = np.array(CalData['Test Solution Concentration']).reshape(-1,1)"
   ]
  },
  {
   "cell_type": "code",
   "execution_count": 305,
   "metadata": {},
   "outputs": [],
   "source": [
    "X_train, X_test, y_train, y_test = train_test_split(X_Micro, X_Sal, random_state = 0) "
   ]
  },
  {
   "cell_type": "code",
   "execution_count": 306,
   "metadata": {},
   "outputs": [],
   "source": [
    "Error_Percent = {}\n",
    "trained_models = {}"
   ]
  },
  {
   "cell_type": "code",
   "execution_count": 307,
   "metadata": {},
   "outputs": [],
   "source": [
    "def score(x,y):\n",
    "    x = np.array(x)\n",
    "    y = np.array(y)    \n",
    "    return 100 - np.mean((x-y)**2)**0.5*100/np.mean(x)"
   ]
  },
  {
   "cell_type": "markdown",
   "metadata": {},
   "source": [
    "# Correlation between Microcontroller Values and Glucose Concentration"
   ]
  },
  {
   "cell_type": "markdown",
   "metadata": {},
   "source": [
    "# Information Entropy based algorithms "
   ]
  },
  {
   "cell_type": "code",
   "execution_count": 308,
   "metadata": {},
   "outputs": [
    {
     "name": "stdout",
     "output_type": "stream",
     "text": [
      "30.457604359076072\n"
     ]
    },
    {
     "data": {
      "image/png": "[encoded data removed]",
      "text/plain": [
       "<Figure size 432x288 with 1 Axes>"
      ]
     },
     "metadata": {
      "needs_background": "light"
     },
     "output_type": "display_data"
    }
   ],
   "source": [
    "regr = DecisionTreeRegressor(max_depth=10)\n",
    "regr.fit(X_train, y_train)\n",
    "y_pred = regr.predict(X_test)\n",
    "Error_Percent['Information Entropy based ML algorithms'] = score(y_test,y_pred)\n",
    "print(score(y_test,y_pred))\n",
    "y_predf = regr.predict(X_Micro)\n",
    "plt.scatter(X_Micro,X_Sal)\n",
    "plt.scatter(X_Micro,y_predf)\n",
    "trained_models['Information Entropy based ML algorithms'] = regr"
   ]
  },
  {
   "cell_type": "markdown",
   "metadata": {},
   "source": [
    "# Polynomial regression using gradient dissent"
   ]
  },
  {
   "cell_type": "code",
   "execution_count": 309,
   "metadata": {},
   "outputs": [
    {
     "name": "stdout",
     "output_type": "stream",
     "text": [
      " Error Percentage:  8.677417217014053 \n",
      " Degree of Polynomial:  3\n"
     ]
    },
    {
     "data": {
      "image/png": "[encoded data removed]",
      "text/plain": [
       "<Figure size 432x288 with 1 Axes>"
      ]
     },
     "metadata": {
      "needs_background": "light"
     },
     "output_type": "display_data"
    }
   ],
   "source": [
    "from sklearn.preprocessing import PolynomialFeatures\n",
    "\n",
    "models = []\n",
    "# Test upto 10 degree polynomial\n",
    "\n",
    "for j in range(10):\n",
    "    poly = PolynomialFeatures(degree=j)\n",
    "    poly_x = poly.fit_transform(X_train)\n",
    "    models.append(poly_x)\n",
    "\n",
    "from sklearn.linear_model import LinearRegression\n",
    "\n",
    "regressors = []\n",
    "y_preds = []\n",
    "mses = []\n",
    "\n",
    "for model in models:\n",
    "    regressor = LinearRegression()\n",
    "    regressor.fit(model,y_train)\n",
    "    regressors.append(regressor)\n",
    "\n",
    "j=0\n",
    "min_mse = -1\n",
    "minj = -1\n",
    "\n",
    "for regressor in regressors:\n",
    "    poly = PolynomialFeatures(degree=j)\n",
    "    poly_x = poly.fit_transform(X_test)    \n",
    "    y_pred  = regressor.predict(poly_x)\n",
    "    mse = 100 - score(y_test,y_pred)\n",
    "    \n",
    "    if(j==0):\n",
    "        min_mse = mse\n",
    "        minj = 0\n",
    "    elif(min_mse>mse):\n",
    "        min_mse = mse\n",
    "        minj = j\n",
    "    j+=1\n",
    "\n",
    "\n",
    "print(' Error Percentage: ', min_mse, '\\n' , 'Degree of Polynomial: ',minj)\n",
    "Error_Percent['Polynomial_Regression'] = min_mse\n",
    "poly = PolynomialFeatures(degree=minj)\n",
    "poly_x = poly.fit_transform(X_Micro)    \n",
    "y_pred  = regressors[minj].predict(poly_x)\n",
    "plt.scatter(X_Micro,y_pred)\n",
    "plt.scatter(X_Micro,X_Sal)\n",
    "trained_models['Polynomial_Regression'] = regressors[minj]\n",
    "ArdtoGlc = regressors[minj]"
   ]
  },
  {
   "cell_type": "markdown",
   "metadata": {},
   "source": [
    "# Mapping Glucose Concentration in Saliva to that of Blood"
   ]
  },
  {
   "cell_type": "code",
   "execution_count": 310,
   "metadata": {},
   "outputs": [
    {
     "data": {
      "text/html": [
       "<div>\n",
       "<style scoped>\n",
       "    .dataframe tbody tr th:only-of-type {\n",
       "        vertical-align: middle;\n",
       "    }\n",
       "\n",
       "    .dataframe tbody tr th {\n",
       "        vertical-align: top;\n",
       "    }\n",
       "\n",
       "    .dataframe thead th {\n",
       "        text-align: right;\n",
       "    }\n",
       "</style>\n",
       "<table border=\"1\" class=\"dataframe\">\n",
       "  <thead>\n",
       "    <tr style=\"text-align: right;\">\n",
       "      <th></th>\n",
       "      <th>Salivary Glucose Concentration</th>\n",
       "      <th>Blood Glucose Concentration</th>\n",
       "    </tr>\n",
       "  </thead>\n",
       "  <tbody>\n",
       "    <tr>\n",
       "      <th>0</th>\n",
       "      <td>1.296094</td>\n",
       "      <td>110.260027</td>\n",
       "    </tr>\n",
       "    <tr>\n",
       "      <th>1</th>\n",
       "      <td>1.301530</td>\n",
       "      <td>65.923150</td>\n",
       "    </tr>\n",
       "    <tr>\n",
       "      <th>2</th>\n",
       "      <td>1.411458</td>\n",
       "      <td>96.978819</td>\n",
       "    </tr>\n",
       "    <tr>\n",
       "      <th>3</th>\n",
       "      <td>1.436916</td>\n",
       "      <td>94.776040</td>\n",
       "    </tr>\n",
       "    <tr>\n",
       "      <th>4</th>\n",
       "      <td>1.357038</td>\n",
       "      <td>99.435002</td>\n",
       "    </tr>\n",
       "  </tbody>\n",
       "</table>\n",
       "</div>"
      ],
      "text/plain": [
       "   Salivary Glucose Concentration  Blood Glucose Concentration\n",
       "0                        1.296094                   110.260027\n",
       "1                        1.301530                    65.923150\n",
       "2                        1.411458                    96.978819\n",
       "3                        1.436916                    94.776040\n",
       "4                        1.357038                    99.435002"
      ]
     },
     "execution_count": 310,
     "metadata": {},
     "output_type": "execute_result"
    }
   ],
   "source": [
    "Sal_to_Blood_Data = pd.read_excel('DiabeaTiT_SaltoBlood.xlsx')\n",
    "Sal_to_Blood_Data.head()"
   ]
  },
  {
   "cell_type": "code",
   "execution_count": 311,
   "metadata": {},
   "outputs": [],
   "source": [
    "X_Sal1 = np.array(Sal_to_Blood_Data['Salivary Glucose Concentration']).reshape(-1,1)\n",
    "Y_Blood_Glucose = np.array(Sal_to_Blood_Data['Blood Glucose Concentration']).reshape(-1,1)"
   ]
  },
  {
   "cell_type": "markdown",
   "metadata": {},
   "source": [
    "# Information Entropy based algorithms "
   ]
  },
  {
   "cell_type": "code",
   "execution_count": 312,
   "metadata": {},
   "outputs": [],
   "source": [
    "X_train, X_test, y_train, y_test = train_test_split(X_Sal1, Y_Blood_Glucose, random_state = 0) \n",
    "Error_Percent = {}\n",
    "trained_models = {}"
   ]
  },
  {
   "cell_type": "code",
   "execution_count": 313,
   "metadata": {},
   "outputs": [
    {
     "name": "stdout",
     "output_type": "stream",
     "text": [
      "59.6090135577743\n"
     ]
    },
    {
     "data": {
      "image/png": "[encoded data removed]",
      "text/plain": [
       "<Figure size 432x288 with 1 Axes>"
      ]
     },
     "metadata": {
      "needs_background": "light"
     },
     "output_type": "display_data"
    }
   ],
   "source": [
    "regr = DecisionTreeRegressor(max_depth=10)\n",
    "regr.fit(X_train, y_train)\n",
    "y_pred = regr.predict(X_test)\n",
    "Error_Percent['Information Entropy based ML algorithms'] = score(y_test,y_pred)\n",
    "print(score(y_test,y_pred))\n",
    "y_predf = regr.predict(X_Sal1)\n",
    "plt.scatter(X_Sal1,Y_Blood_Glucose)\n",
    "plt.scatter(X_Sal1,y_predf)\n",
    "trained_models['Information Entropy based ML algorithms'] = regr"
   ]
  },
  {
   "cell_type": "markdown",
   "metadata": {},
   "source": [
    "# Polynomial regression using gradient dissent"
   ]
  },
  {
   "cell_type": "code",
   "execution_count": 314,
   "metadata": {},
   "outputs": [
    {
     "name": "stdout",
     "output_type": "stream",
     "text": [
      " Error Percentage:  9.944771899414178 \n",
      " Degree of Polynomial:  2\n"
     ]
    },
    {
     "data": {
      "image/png": "[encoded data removed]",
      "text/plain": [
       "<Figure size 432x288 with 1 Axes>"
      ]
     },
     "metadata": {
      "needs_background": "light"
     },
     "output_type": "display_data"
    }
   ],
   "source": [
    "from sklearn.preprocessing import PolynomialFeatures\n",
    "\n",
    "models = []\n",
    "# Test upto 10 degree polynomial\n",
    "\n",
    "for j in range(10):\n",
    "    poly = PolynomialFeatures(degree=j)\n",
    "    poly_x = poly.fit_transform(X_train)\n",
    "    models.append(poly_x)\n",
    "\n",
    "from sklearn.linear_model import LinearRegression\n",
    "\n",
    "regressors = []\n",
    "y_preds = []\n",
    "mses = []\n",
    "\n",
    "for model in models:\n",
    "    regressor = LinearRegression()\n",
    "    regressor.fit(model,y_train)\n",
    "    regressors.append(regressor)\n",
    "\n",
    "j=0\n",
    "min_mse = -1\n",
    "minj = -1\n",
    "\n",
    "for regressor in regressors:\n",
    "    poly = PolynomialFeatures(degree=j)\n",
    "    poly_x = poly.fit_transform(X_test)    \n",
    "    y_pred  = regressor.predict(poly_x)\n",
    "    mse = 100 - score(y_test,y_pred)\n",
    "    \n",
    "    if(j==0):\n",
    "        min_mse = mse\n",
    "        minj = 0\n",
    "    elif(min_mse>mse):\n",
    "        min_mse = mse\n",
    "        minj = j\n",
    "    j+=1\n",
    "\n",
    "\n",
    "print(' Error Percentage: ', min_mse, '\\n' , 'Degree of Polynomial: ',minj)\n",
    "Error_Percent['Polynomial_Regression'] = min_mse\n",
    "poly = PolynomialFeatures(degree=minj)\n",
    "poly_x = poly.fit_transform(X_Sal1)    \n",
    "y_pred  = regressors[minj].predict(poly_x)\n",
    "plt.scatter(X_Sal1,y_pred)\n",
    "plt.scatter(X_Sal1,Y_Blood_Glucose)\n",
    "trained_models['Polynomial_Regression'] = regressors[minj]\n",
    "SaltoBloodGlc = regressors[minj]\n",
    "l = SaltoBloodGlc.coef_"
   ]
  },
  {
   "cell_type": "code",
   "execution_count": 315,
   "metadata": {},
   "outputs": [],
   "source": [
    "l = np.array([2.5]).reshape(-1,1)\n",
    "l = SaltoBloodGlc.predict(poly.fit_transform(l))"
   ]
  },
  {
   "cell_type": "code",
   "execution_count": 336,
   "metadata": {},
   "outputs": [
    {
     "data": {
      "text/plain": [
       "62"
      ]
     },
     "execution_count": 336,
     "metadata": {},
     "output_type": "execute_result"
    }
   ],
   "source": [
    "MctoBlood(350)"
   ]
  },
  {
   "cell_type": "code",
   "execution_count": 323,
   "metadata": {},
   "outputs": [],
   "source": [
    "def MctoBlood(x):\n",
    "    x = np.array([x]).reshape(-1,1)\n",
    "    y = ArdtoGlc.predict(PolynomialFeatures(degree=3).fit_transform(x))\n",
    "    y = np.array([y]).reshape(-1,1)\n",
    "    z = SaltoBloodGlc.predict(PolynomialFeatures(degree=2).fit_transform(y))\n",
    "    return int(z)"
   ]
  },
  {
   "cell_type": "markdown",
   "metadata": {},
   "source": [
    "# Final Calibration: Microcontroller Values to Blood Glucose Concentration"
   ]
  },
  {
   "cell_type": "code",
   "execution_count": 339,
   "metadata": {},
   "outputs": [],
   "source": [
    "MicroController_to_Blood_Glucose = np.array([MctoBlood(i) for i in range(1024)])[350:]\n",
    "f = np.arange(350,1024)"
   ]
  },
  {
   "cell_type": "code",
   "execution_count": 340,
   "metadata": {},
   "outputs": [
    {
     "data": {
      "text/plain": [
       "Text(0,0.5,'Glucose Concentration in Blood')"
      ]
     },
     "execution_count": 340,
     "metadata": {},
     "output_type": "execute_result"
    },
    {
     "data": {
      "image/png": "[encoded data removed]",
      "text/plain": [
       "<Figure size 432x288 with 1 Axes>"
      ]
     },
     "metadata": {
      "needs_background": "light"
     },
     "output_type": "display_data"
    }
   ],
   "source": [
    "plt.plot(f,MicroController_to_Blood_Glucose)\n",
    "plt.title('Microcontroller Values Correlated to Glucose Concentration in Blood')\n",
    "plt.xlabel('Microcontroller Values')\n",
    "plt.ylabel('Glucose Concentration in Blood')"
   ]
  },
  {
   "cell_type": "code",
   "execution_count": 341,
   "metadata": {},
   "outputs": [],
   "source": [
    "df3 = pd.DataFrame()\n",
    "df3['MicroController Values'] = f\n",
    "df3['Blood Glucose Concentration Values'] = MicroController_to_Blood_Glucose\n",
    "df3.to_excel('DiabeaTiT_MicroController_to_Blood_Glucose.xlsx')"
   ]
  },
  {
   "cell_type": "code",
   "execution_count": 342,
   "metadata": {},
   "outputs": [
    {
     "data": {
      "text/plain": [
       "array([[ 0.00000000e+00,  1.03820866e-03,  2.85167552e-06,\n",
       "        -1.52347882e-09]])"
      ]
     },
     "execution_count": 342,
     "metadata": {},
     "output_type": "execute_result"
    }
   ],
   "source": [
    "ArdtoGlc.coef_"
   ]
  },
  {
   "cell_type": "code",
   "execution_count": 345,
   "metadata": {},
   "outputs": [
    {
     "data": {
      "text/plain": [
       "array([[ 0.00000000e+00,  1.03820866e-03,  2.85167552e-06,\n",
       "        -1.52347882e-09]])"
      ]
     },
     "execution_count": 345,
     "metadata": {},
     "output_type": "execute_result"
    }
   ],
   "source": [
    "ArdtoGlc.coef_"
   ]
  },
  {
   "cell_type": "code",
   "execution_count": 347,
   "metadata": {},
   "outputs": [
    {
     "data": {
      "text/plain": [
       "array([[ 0.        , 61.58593563, 14.3749855 ]])"
      ]
     },
     "execution_count": 347,
     "metadata": {},
     "output_type": "execute_result"
    }
   ],
   "source": [
    "SaltoBloodGlc.coef_"
   ]
  },
  {
   "cell_type": "code",
   "execution_count": null,
   "metadata": {},
   "outputs": [],
   "source": []
  },
  {
   "cell_type": "code",
   "execution_count": null,
   "metadata": {},
   "outputs": [],
   "source": []
  },
  {
   "cell_type": "code",
   "execution_count": null,
   "metadata": {},
   "outputs": [],
   "source": []
  },
  {
   "cell_type": "code",
   "execution_count": null,
   "metadata": {},
   "outputs": [],
   "source": []
  },
  {
   "cell_type": "code",
   "execution_count": null,
   "metadata": {},
   "outputs": [],
   "source": []
  }
 ],
 "metadata": {
  "kernelspec": {
   "display_name": "Python 3",
   "language": "python",
   "name": "python3"
  },
  "language_info": {
   "codemirror_mode": {
    "name": "ipython",
    "version": 3
   },
   "file_extension": ".py",
   "mimetype": "text/x-python",
   "name": "python",
   "nbconvert_exporter": "python",
   "pygments_lexer": "ipython3",
   "version": "3.7.0"
  }
 },
 "nbformat": 4,
 "nbformat_minor": 2
}
