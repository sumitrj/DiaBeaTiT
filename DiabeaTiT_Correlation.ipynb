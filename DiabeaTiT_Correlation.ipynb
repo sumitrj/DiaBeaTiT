{
 "cells": [
  {
   "cell_type": "markdown",
   "metadata": {},
   "source": [
    "## Getting Dependencies"
   ]
  },
  {
   "cell_type": "code",
   "execution_count": 1,
   "metadata": {},
   "outputs": [
    {
     "name": "stdout",
     "output_type": "stream",
     "text": [
      "CPU times: user 1.07 s, sys: 287 ms, total: 1.36 s\n",
      "Wall time: 856 ms\n"
     ]
    }
   ],
   "source": [
    "%%time\n",
    "import matplotlib.pyplot as plt\n",
    "import numpy as np\n",
    "import pandas as pd\n",
    "import numpy as np\n",
    "from sklearn.model_selection import train_test_split\n",
    "from sklearn.tree import DecisionTreeRegressor\n",
    "from sklearn.metrics import accuracy_score\n",
    "from sklearn import tree"
   ]
  },
  {
   "cell_type": "markdown",
   "metadata": {},
   "source": [
    "# Calibration of the Glucometer"
   ]
  },
  {
   "cell_type": "markdown",
   "metadata": {},
   "source": [
    "## Mapping Microcontroller Values to Glucose Concentration"
   ]
  },
  {
   "cell_type": "code",
   "execution_count": 2,
   "metadata": {},
   "outputs": [
    {
     "data": {
      "text/html": [
       "<div>\n",
       "<style scoped>\n",
       "    .dataframe tbody tr th:only-of-type {\n",
       "        vertical-align: middle;\n",
       "    }\n",
       "\n",
       "    .dataframe tbody tr th {\n",
       "        vertical-align: top;\n",
       "    }\n",
       "\n",
       "    .dataframe thead th {\n",
       "        text-align: right;\n",
       "    }\n",
       "</style>\n",
       "<table border=\"1\" class=\"dataframe\">\n",
       "  <thead>\n",
       "    <tr style=\"text-align: right;\">\n",
       "      <th></th>\n",
       "      <th>Unnamed: 0</th>\n",
       "      <th>Test Solution Concentration</th>\n",
       "      <th>Output values from Microcontroller</th>\n",
       "    </tr>\n",
       "  </thead>\n",
       "  <tbody>\n",
       "    <tr>\n",
       "      <th>0</th>\n",
       "      <td>0</td>\n",
       "      <td>0.300000</td>\n",
       "      <td>110.465128</td>\n",
       "    </tr>\n",
       "    <tr>\n",
       "      <th>1</th>\n",
       "      <td>1</td>\n",
       "      <td>0.313568</td>\n",
       "      <td>193.581632</td>\n",
       "    </tr>\n",
       "    <tr>\n",
       "      <th>2</th>\n",
       "      <td>2</td>\n",
       "      <td>0.327136</td>\n",
       "      <td>147.273854</td>\n",
       "    </tr>\n",
       "    <tr>\n",
       "      <th>3</th>\n",
       "      <td>3</td>\n",
       "      <td>0.340704</td>\n",
       "      <td>35.719369</td>\n",
       "    </tr>\n",
       "    <tr>\n",
       "      <th>4</th>\n",
       "      <td>4</td>\n",
       "      <td>0.354271</td>\n",
       "      <td>73.565196</td>\n",
       "    </tr>\n",
       "  </tbody>\n",
       "</table>\n",
       "</div>"
      ],
      "text/plain": [
       "   Unnamed: 0  Test Solution Concentration  Output values from Microcontroller\n",
       "0           0                     0.300000                          110.465128\n",
       "1           1                     0.313568                          193.581632\n",
       "2           2                     0.327136                          147.273854\n",
       "3           3                     0.340704                           35.719369\n",
       "4           4                     0.354271                           73.565196"
      ]
     },
     "execution_count": 2,
     "metadata": {},
     "output_type": "execute_result"
    }
   ],
   "source": [
    "CalData = pd.read_excel('DiabeaTiT_Calibration Data.xlsx')\n",
    "CalData.head()"
   ]
  },
  {
   "cell_type": "code",
   "execution_count": 3,
   "metadata": {},
   "outputs": [
    {
     "data": {
      "text/plain": [
       "Text(0.5, 1.0, 'Calibration Data')"
      ]
     },
     "execution_count": 3,
     "metadata": {},
     "output_type": "execute_result"
    },
    {
     "data": {
      "image/png": "[encoded data removed]",
      "text/plain": [
       "<Figure size 432x288 with 1 Axes>"
      ]
     },
     "metadata": {
      "needs_background": "light"
     },
     "output_type": "display_data"
    }
   ],
   "source": [
    "plt.scatter(np.array(CalData['Output values from Microcontroller']),np.array(CalData['Test Solution Concentration']))\n",
    "plt.xlabel('Output values from Microcontroller')\n",
    "plt.ylabel('Test Solution Concentration')\n",
    "plt.title('Calibration Data')"
   ]
  },
  {
   "cell_type": "markdown",
   "metadata": {},
   "source": [
    "## Reshape Data"
   ]
  },
  {
   "cell_type": "code",
   "execution_count": 4,
   "metadata": {},
   "outputs": [],
   "source": [
    "X_Micro = np.array(CalData['Output values from Microcontroller']).reshape(-1,1)\n",
    "X_Sal = np.array(CalData['Test Solution Concentration']).reshape(-1,1)"
   ]
  },
  {
   "cell_type": "markdown",
   "metadata": {},
   "source": [
    "## Accuracy Function and Split"
   ]
  },
  {
   "cell_type": "code",
   "execution_count": 5,
   "metadata": {},
   "outputs": [],
   "source": [
    "X_train, X_test, y_train, y_test = train_test_split(X_Micro, X_Sal, random_state = 0) \n",
    "Error_Percent = {}\n",
    "trained_models = {}\n",
    "def score(x,y):\n",
    "    x = np.array(x)\n",
    "    y = np.array(y)    \n",
    "    return 100 - np.mean((x-y)**2)**0.5*100/np.mean(x)"
   ]
  },
  {
   "cell_type": "markdown",
   "metadata": {},
   "source": [
    "## Correlation between Microcontroller Values and Glucose Concentration"
   ]
  },
  {
   "cell_type": "markdown",
   "metadata": {},
   "source": [
    "### Information Entropy based algorithms "
   ]
  },
  {
   "cell_type": "code",
   "execution_count": 6,
   "metadata": {},
   "outputs": [
    {
     "name": "stdout",
     "output_type": "stream",
     "text": [
      "30.457604359076072\n"
     ]
    },
    {
     "data": {
      "image/png": "[encoded data removed]",
      "text/plain": [
       "<Figure size 432x288 with 1 Axes>"
      ]
     },
     "metadata": {
      "needs_background": "light"
     },
     "output_type": "display_data"
    }
   ],
   "source": [
    "regr = DecisionTreeRegressor(max_depth=10)\n",
    "regr.fit(X_train, y_train)\n",
    "y_pred = regr.predict(X_test)\n",
    "Error_Percent['Information Entropy based ML algorithms'] = score(y_test,y_pred)\n",
    "print(score(y_test,y_pred))\n",
    "y_predf = regr.predict(X_Micro)\n",
    "plt.scatter(X_Micro,X_Sal)\n",
    "plt.scatter(X_Micro,y_predf)\n",
    "trained_models['Information Entropy based ML algorithms'] = regr"
   ]
  },
  {
   "cell_type": "markdown",
   "metadata": {},
   "source": [
    "### Polynomial regression using gradient dissent"
   ]
  },
  {
   "cell_type": "code",
   "execution_count": 7,
   "metadata": {},
   "outputs": [
    {
     "name": "stdout",
     "output_type": "stream",
     "text": [
      " Accuracy Percentage:  91.32258278586714 \n",
      " Degree of Polynomial:  3\n"
     ]
    },
    {
     "data": {
      "image/png": "[encoded data removed]",
      "text/plain": [
       "<Figure size 432x288 with 1 Axes>"
      ]
     },
     "metadata": {
      "needs_background": "light"
     },
     "output_type": "display_data"
    }
   ],
   "source": [
    "from sklearn.preprocessing import PolynomialFeatures\n",
    "\n",
    "models = []\n",
    "# Test upto 10 degree polynomial\n",
    "\n",
    "for j in range(10):\n",
    "    poly = PolynomialFeatures(degree=j)\n",
    "    poly_x = poly.fit_transform(X_train)\n",
    "    models.append(poly_x)\n",
    "\n",
    "from sklearn.linear_model import LinearRegression\n",
    "\n",
    "regressors = []\n",
    "y_preds = []\n",
    "mses = []\n",
    "\n",
    "for model in models:\n",
    "    regressor = LinearRegression()\n",
    "    regressor.fit(model,y_train)\n",
    "    regressors.append(regressor)\n",
    "\n",
    "j=0\n",
    "min_mse = -1\n",
    "minj = -1\n",
    "\n",
    "for regressor in regressors:\n",
    "    poly = PolynomialFeatures(degree=j)\n",
    "    poly_x = poly.fit_transform(X_test)    \n",
    "    y_pred  = regressor.predict(poly_x)\n",
    "    mse = 100 - score(y_test,y_pred)\n",
    "    \n",
    "    if(j==0):\n",
    "        min_mse = mse\n",
    "        minj = 0\n",
    "    elif(min_mse>mse):\n",
    "        min_mse = mse\n",
    "        minj = j\n",
    "    j+=1\n",
    "\n",
    "\n",
    "print(' Accuracy Percentage: ',100- min_mse, '\\n' , 'Degree of Polynomial: ',minj)\n",
    "Error_Percent['Polynomial_Regression'] = min_mse\n",
    "poly = PolynomialFeatures(degree=minj)\n",
    "poly_x = poly.fit_transform(X_Micro)    \n",
    "y_pred  = regressors[minj].predict(poly_x)\n",
    "plt.scatter(X_Micro,y_pred)\n",
    "plt.scatter(X_Micro,X_Sal)\n",
    "#plt.title('Microcontroller Values against Glucose Concentration')\n",
    "plt.xlabel('Mirocontroller Values')\n",
    "plt.ylabel('Glucose Concentration (mg/dl) ')\n",
    "trained_models['Polynomial_Regression'] = regressors[minj]\n",
    "ArdtoGlc = regressors[minj]"
   ]
  },
  {
   "cell_type": "markdown",
   "metadata": {},
   "source": [
    "# Mapping Glucose Concentration in Saliva to that of Blood"
   ]
  },
  {
   "cell_type": "markdown",
   "metadata": {},
   "source": [
    "## Read Data"
   ]
  },
  {
   "cell_type": "code",
   "execution_count": 8,
   "metadata": {},
   "outputs": [
    {
     "data": {
      "text/html": [
       "<div>\n",
       "<style scoped>\n",
       "    .dataframe tbody tr th:only-of-type {\n",
       "        vertical-align: middle;\n",
       "    }\n",
       "\n",
       "    .dataframe tbody tr th {\n",
       "        vertical-align: top;\n",
       "    }\n",
       "\n",
       "    .dataframe thead th {\n",
       "        text-align: right;\n",
       "    }\n",
       "</style>\n",
       "<table border=\"1\" class=\"dataframe\">\n",
       "  <thead>\n",
       "    <tr style=\"text-align: right;\">\n",
       "      <th></th>\n",
       "      <th>Unnamed: 0</th>\n",
       "      <th>Salivary Glucose Concentration</th>\n",
       "      <th>Blood Glucose Concentration</th>\n",
       "    </tr>\n",
       "  </thead>\n",
       "  <tbody>\n",
       "    <tr>\n",
       "      <th>0</th>\n",
       "      <td>0</td>\n",
       "      <td>1.296094</td>\n",
       "      <td>110.260027</td>\n",
       "    </tr>\n",
       "    <tr>\n",
       "      <th>1</th>\n",
       "      <td>1</td>\n",
       "      <td>1.301530</td>\n",
       "      <td>65.923150</td>\n",
       "    </tr>\n",
       "    <tr>\n",
       "      <th>2</th>\n",
       "      <td>2</td>\n",
       "      <td>1.411458</td>\n",
       "      <td>96.978819</td>\n",
       "    </tr>\n",
       "    <tr>\n",
       "      <th>3</th>\n",
       "      <td>3</td>\n",
       "      <td>1.436916</td>\n",
       "      <td>94.776040</td>\n",
       "    </tr>\n",
       "    <tr>\n",
       "      <th>4</th>\n",
       "      <td>4</td>\n",
       "      <td>1.357038</td>\n",
       "      <td>99.435002</td>\n",
       "    </tr>\n",
       "  </tbody>\n",
       "</table>\n",
       "</div>"
      ],
      "text/plain": [
       "   Unnamed: 0  Salivary Glucose Concentration  Blood Glucose Concentration\n",
       "0           0                        1.296094                   110.260027\n",
       "1           1                        1.301530                    65.923150\n",
       "2           2                        1.411458                    96.978819\n",
       "3           3                        1.436916                    94.776040\n",
       "4           4                        1.357038                    99.435002"
      ]
     },
     "execution_count": 8,
     "metadata": {},
     "output_type": "execute_result"
    }
   ],
   "source": [
    "Sal_to_Blood_Data = pd.read_excel('DiabeaTiT_SaltoBlood.xlsx')\n",
    "Sal_to_Blood_Data.head()"
   ]
  },
  {
   "cell_type": "markdown",
   "metadata": {},
   "source": [
    "## Reshape and split Data"
   ]
  },
  {
   "cell_type": "code",
   "execution_count": 9,
   "metadata": {},
   "outputs": [],
   "source": [
    "X_Sal1 = np.array(Sal_to_Blood_Data['Salivary Glucose Concentration']).reshape(-1,1)\n",
    "Y_Blood_Glucose = np.array(Sal_to_Blood_Data['Blood Glucose Concentration']).reshape(-1,1)\n",
    "X_train, X_test, y_train, y_test = train_test_split(X_Sal1, Y_Blood_Glucose, random_state = 0) \n",
    "Error_Percent = {}\n",
    "trained_models = {}"
   ]
  },
  {
   "cell_type": "markdown",
   "metadata": {},
   "source": [
    "## Training Models"
   ]
  },
  {
   "cell_type": "markdown",
   "metadata": {},
   "source": [
    "### Information Entropy based algorithms "
   ]
  },
  {
   "cell_type": "code",
   "execution_count": 10,
   "metadata": {},
   "outputs": [
    {
     "name": "stdout",
     "output_type": "stream",
     "text": [
      "Accuracy:  59.6090135577743\n"
     ]
    },
    {
     "data": {
      "image/png": "[encoded data removed]",
      "text/plain": [
       "<Figure size 432x288 with 1 Axes>"
      ]
     },
     "metadata": {
      "needs_background": "light"
     },
     "output_type": "display_data"
    }
   ],
   "source": [
    "regr = DecisionTreeRegressor(max_depth=10)\n",
    "regr.fit(X_train, y_train)\n",
    "y_pred = regr.predict(X_test)\n",
    "Error_Percent['Information Entropy based ML algorithms'] = score(y_test,y_pred)\n",
    "print(\"Accuracy: \",score(y_test,y_pred))\n",
    "y_predf = regr.predict(X_Sal1)\n",
    "plt.scatter(X_Sal1,Y_Blood_Glucose)\n",
    "plt.scatter(X_Sal1,y_predf)\n",
    "trained_models['Information Entropy based ML algorithms'] = regr"
   ]
  },
  {
   "cell_type": "markdown",
   "metadata": {},
   "source": [
    "### Polynomial regression using gradient dissent"
   ]
  },
  {
   "cell_type": "code",
   "execution_count": 11,
   "metadata": {},
   "outputs": [
    {
     "name": "stdout",
     "output_type": "stream",
     "text": [
      " Accuracy:  90.05522810058584 \n",
      " Degree of Polynomial:  2\n"
     ]
    },
    {
     "data": {
      "image/png": "[encoded data removed]",
      "text/plain": [
       "<Figure size 432x288 with 1 Axes>"
      ]
     },
     "metadata": {
      "needs_background": "light"
     },
     "output_type": "display_data"
    }
   ],
   "source": [
    "from sklearn.preprocessing import PolynomialFeatures\n",
    "\n",
    "models = []\n",
    "# Test upto 10 degree polynomial\n",
    "\n",
    "for j in range(10):\n",
    "    poly = PolynomialFeatures(degree=j)\n",
    "    poly_x = poly.fit_transform(X_train)\n",
    "    models.append(poly_x)\n",
    "\n",
    "from sklearn.linear_model import LinearRegression\n",
    "\n",
    "regressors = []\n",
    "y_preds = []\n",
    "mses = []\n",
    "\n",
    "for model in models:\n",
    "    regressor = LinearRegression()\n",
    "    regressor.fit(model,y_train)\n",
    "    regressors.append(regressor)\n",
    "\n",
    "j=0\n",
    "min_mse = -1\n",
    "minj = -1\n",
    "\n",
    "for regressor in regressors:\n",
    "    poly = PolynomialFeatures(degree=j)\n",
    "    poly_x = poly.fit_transform(X_test)    \n",
    "    y_pred  = regressor.predict(poly_x)\n",
    "    mse = 100 - score(y_test,y_pred)\n",
    "    \n",
    "    if(j==0):\n",
    "        min_mse = mse\n",
    "        minj = 0\n",
    "    elif(min_mse>mse):\n",
    "        min_mse = mse\n",
    "        minj = j\n",
    "    j+=1\n",
    "\n",
    "print(' Accuracy: ', 100-min_mse, '\\n' , 'Degree of Polynomial: ',minj)\n",
    "Error_Percent['Polynomial_Regression'] = min_mse\n",
    "poly = PolynomialFeatures(degree=minj)\n",
    "poly_x = poly.fit_transform(X_Sal1)    \n",
    "y_pred  = regressors[minj].predict(poly_x)\n",
    "plt.scatter(X_Sal1,y_pred)\n",
    "plt.scatter(X_Sal1,Y_Blood_Glucose)\n",
    "plt.xlabel('Glucose Concentration in Saliva')\n",
    "plt.ylabel('Glucose Concentration in Blood')\n",
    "trained_models['Polynomial_Regression'] = regressors[minj]\n",
    "SaltoBloodGlc = regressors[minj]\n",
    "l = SaltoBloodGlc.coef_"
   ]
  },
  {
   "cell_type": "markdown",
   "metadata": {},
   "source": [
    "### Write the outcomes to another excel files"
   ]
  },
  {
   "cell_type": "code",
   "execution_count": 12,
   "metadata": {},
   "outputs": [],
   "source": [
    "dfx = pd.DataFrame()\n",
    "dfx['Salivary glucose level'] = X_Sal1.reshape(X_Sal1.shape[0])\n",
    "dfx['Actual blood level'] = Y_Blood_Glucose.reshape(Y_Blood_Glucose.shape[0])\n",
    "dfx['Predicted blood glucose level'] = y_pred.reshape(y_pred.shape[0])\n",
    "dfx.to_excel('ThreeCols.xlsx')"
   ]
  },
  {
   "cell_type": "markdown",
   "metadata": {},
   "source": [
    "# Final Calibration: Microcontroller Values to Blood Glucose Concentration"
   ]
  },
  {
   "cell_type": "markdown",
   "metadata": {},
   "source": [
    "## Function to return Blood Glucose Level based on Microcontroller Values"
   ]
  },
  {
   "cell_type": "code",
   "execution_count": 13,
   "metadata": {},
   "outputs": [],
   "source": [
    "def MctoBlood(x):\n",
    "    x = np.array([x]).reshape(-1,1)\n",
    "    y = ArdtoGlc.predict(PolynomialFeatures(degree=3).fit_transform(x))\n",
    "    y = np.array([y]).reshape(-1,1)\n",
    "    z = SaltoBloodGlc.predict(PolynomialFeatures(degree=2).fit_transform(y))\n",
    "    return int(z)"
   ]
  },
  {
   "cell_type": "code",
   "execution_count": 14,
   "metadata": {},
   "outputs": [],
   "source": [
    "MicroController_to_Blood_Glucose = np.array([MctoBlood(i) for i in range(1024)])[350:]\n",
    "f = np.arange(350,1024)"
   ]
  },
  {
   "cell_type": "code",
   "execution_count": 15,
   "metadata": {},
   "outputs": [
    {
     "data": {
      "text/plain": [
       "Text(0, 0.5, 'Glucose Concentration in Blood')"
      ]
     },
     "execution_count": 15,
     "metadata": {},
     "output_type": "execute_result"
    },
    {
     "data": {
      "image/png": "[encoded data removed]",
      "text/plain": [
       "<Figure size 432x288 with 1 Axes>"
      ]
     },
     "metadata": {
      "needs_background": "light"
     },
     "output_type": "display_data"
    }
   ],
   "source": [
    "plt.plot(f,MicroController_to_Blood_Glucose)\n",
    "plt.title('Microcontroller Values Correlated to Glucose Concentration in Blood')\n",
    "plt.xlabel('Microcontroller Values')\n",
    "plt.ylabel('Glucose Concentration in Blood')"
   ]
  },
  {
   "cell_type": "markdown",
   "metadata": {},
   "source": [
    "## Store the Obtained Array into an Excel File"
   ]
  },
  {
   "cell_type": "code",
   "execution_count": 16,
   "metadata": {},
   "outputs": [],
   "source": [
    "df3 = pd.DataFrame()\n",
    "df3['MicroController Values'] = f\n",
    "df3['Blood Glucose Concentration Values'] = MicroController_to_Blood_Glucose\n",
    "df3.to_excel('DiabeaTiT_MicroController_to_Blood_Glucose.xlsx')"
   ]
  },
  {
   "cell_type": "markdown",
   "metadata": {},
   "source": [
    "# Final Coefficients"
   ]
  },
  {
   "cell_type": "code",
   "execution_count": 17,
   "metadata": {},
   "outputs": [
    {
     "data": {
      "text/plain": [
       "array([[ 0.00000000e+00,  1.03820866e-03,  2.85167552e-06,\n",
       "        -1.52347882e-09]])"
      ]
     },
     "execution_count": 17,
     "metadata": {},
     "output_type": "execute_result"
    }
   ],
   "source": [
    "ArdtoGlc.coef_"
   ]
  },
  {
   "cell_type": "code",
   "execution_count": 18,
   "metadata": {},
   "outputs": [
    {
     "data": {
      "text/plain": [
       "array([[ 0.00000000e+00,  1.03820866e-03,  2.85167552e-06,\n",
       "        -1.52347882e-09]])"
      ]
     },
     "execution_count": 18,
     "metadata": {},
     "output_type": "execute_result"
    }
   ],
   "source": [
    "ArdtoGlc.coef_"
   ]
  },
  {
   "cell_type": "code",
   "execution_count": 19,
   "metadata": {},
   "outputs": [
    {
     "data": {
      "text/plain": [
       "array([[ 0.        , 61.58593563, 14.3749855 ]])"
      ]
     },
     "execution_count": 19,
     "metadata": {},
     "output_type": "execute_result"
    }
   ],
   "source": [
    "SaltoBloodGlc.coef_"
   ]
  },
  {
   "cell_type": "markdown",
   "metadata": {},
   "source": [
    "# Binary Analysis | Classification of Patients as Diabateic and Non-Diabetic"
   ]
  },
  {
   "cell_type": "markdown",
   "metadata": {},
   "source": [
    "### Threshold For Determining Diabetes"
   ]
  },
  {
   "cell_type": "code",
   "execution_count": 20,
   "metadata": {},
   "outputs": [],
   "source": [
    "# Threshold BGL for Diabetes\n",
    "D_th = 200"
   ]
  },
  {
   "cell_type": "code",
   "execution_count": 21,
   "metadata": {},
   "outputs": [],
   "source": [
    "def predict(x):\n",
    "    return SaltoBloodGlc.predict(poly.fit_transform(np.array([x]).reshape(-1,1)))[0][0]"
   ]
  },
  {
   "cell_type": "code",
   "execution_count": 22,
   "metadata": {},
   "outputs": [],
   "source": [
    "predicted_levels = [predict(i) for i in np.array(Sal_to_Blood_Data['Salivary Glucose Concentration'])]\n",
    "true_levels = np.array(Sal_to_Blood_Data['Blood Glucose Concentration']).reshape(-1,1)"
   ]
  },
  {
   "cell_type": "code",
   "execution_count": 23,
   "metadata": {},
   "outputs": [
    {
     "data": {
      "text/plain": [
       "Text(0, 0.5, 'Blood Glucose Level')"
      ]
     },
     "execution_count": 23,
     "metadata": {},
     "output_type": "execute_result"
    },
    {
     "data": {
      "image/png": "[encoded data removed]",
      "text/plain": [
       "<Figure size 432x288 with 1 Axes>"
      ]
     },
     "metadata": {
      "needs_background": "light"
     },
     "output_type": "display_data"
    }
   ],
   "source": [
    "plt.scatter(np.arange(len(true_levels)),predicted_levels)\n",
    "plt.scatter(np.arange(len(true_levels)),true_levels)\n",
    "plt.plot(np.arange(len(true_levels)),[D_th for i in range(len(true_levels))])\n",
    "plt.title('Visualizing True Values, Predicted Values and Threshold Line')\n",
    "plt.xlabel('Patient Subject ID')\n",
    "plt.ylabel('Blood Glucose Level')"
   ]
  },
  {
   "cell_type": "markdown",
   "metadata": {},
   "source": [
    "## Classification on the basis of Threshold"
   ]
  },
  {
   "cell_type": "code",
   "execution_count": 24,
   "metadata": {},
   "outputs": [],
   "source": [
    "tp, tn, fp, fn = [], [], [], []\n",
    "\n",
    "for i in range(len(true_levels)):\n",
    "    if(true_levels[i]>D_th and predicted_levels[i]>D_th):\n",
    "        tp.append(i)\n",
    "    if(true_levels[i]>D_th and predicted_levels[i]<D_th):\n",
    "        fn.append(i)\n",
    "    if(true_levels[i]<D_th and predicted_levels[i]>D_th):\n",
    "        fp.append(i)\n",
    "    if(true_levels[i]<D_th and predicted_levels[i]<D_th):\n",
    "        tn.append(i)\n",
    "        \n",
    "tpv = [predict(np.array(Sal_to_Blood_Data['Salivary Glucose Concentration'])[i]) for i in tp]\n",
    "tnv = [predict(np.array(Sal_to_Blood_Data['Salivary Glucose Concentration'])[i]) for i in tn]\n",
    "fpv = [predict(np.array(Sal_to_Blood_Data['Salivary Glucose Concentration'])[i]) for i in fp]\n",
    "fnv = [predict(np.array(Sal_to_Blood_Data['Salivary Glucose Concentration'])[i]) for i in fn]"
   ]
  },
  {
   "cell_type": "markdown",
   "metadata": {},
   "source": [
    "## Classified Plot"
   ]
  },
  {
   "cell_type": "code",
   "execution_count": null,
   "metadata": {},
   "outputs": [],
   "source": [
    "plt.scatter(tp,tpv, c='b')\n",
    "plt.scatter(tn,tnv, c='g')\n",
    "plt.scatter(fp,fpv, c='k')\n",
    "plt.scatter(fn,fnv, c='r')\n",
    "\n",
    "plt.title('Classified Plot')\n",
    "plt.xlabel('Patient Subject Serial Number')\n",
    "plt.ylabel('Blood Sugar Level')\n",
    "\n",
    "display(\"Green: People without diabates and diagnosed by device as non-diabetic\")\n",
    "display(\"Blue: People with diabates and diagnosed by device as diabetic\")\n",
    "display(\"Red: People with diabates and diagnosed by device as non-diabetic\")\n",
    "display(\"Black: People without diabates and diagnosed by device as diabetic\")"
   ]
  },
  {
   "cell_type": "markdown",
   "metadata": {},
   "source": [
    "## Confusion Matrix Plot"
   ]
  },
  {
   "cell_type": "code",
   "execution_count": null,
   "metadata": {
    "scrolled": true
   },
   "outputs": [],
   "source": [
    "yp = []\n",
    "yt = []\n",
    "for i in predicted_levels:\n",
    "    if(i>D_th):\n",
    "        yp.append(1)\n",
    "    else:\n",
    "        yp.append(0) \n",
    "for i in true_levels:\n",
    "    if(i>D_th):\n",
    "        yt.append(1)\n",
    "    else:\n",
    "        yt.append(0)\n",
    "\n",
    "ConMat = [[len(tn),len(fn)],[len(fp),len(tp)]]\n",
    "print(\"Confusion Matrix: \")\n",
    "print(ConMat[0])\n",
    "print(ConMat[1])\n",
    "print('')\n",
    "print('Precision =', len(tp)/(len(tp)+len(fp)))\n",
    "print('Recall = ',len(tp)/len(tp)+len(fn))\n",
    "plt.imshow(ConMat)\n"
   ]
  }
 ],
 "metadata": {
  "kernelspec": {
   "display_name": "Python 3",
   "language": "python",
   "name": "python3"
  },
  "language_info": {
   "codemirror_mode": {
    "name": "ipython",
    "version": 3
   },
   "file_extension": ".py",
   "mimetype": "text/x-python",
   "name": "python",
   "nbconvert_exporter": "python",
   "pygments_lexer": "ipython3",
   "version": "3.8.2"
  }
 },
 "nbformat": 4,
 "nbformat_minor": 2
}
